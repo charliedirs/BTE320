{
  "nbformat": 4,
  "nbformat_minor": 0,
  "metadata": {
    "colab": {
      "provenance": [],
      "authorship_tag": "ABX9TyOq6cvCkvBy+upwafRA9t3n",
      "include_colab_link": true
    },
    "kernelspec": {
      "name": "python3",
      "display_name": "Python 3"
    },
    "language_info": {
      "name": "python"
    }
  },
  "cells": [
    {
      "cell_type": "markdown",
      "metadata": {
        "id": "view-in-github",
        "colab_type": "text"
      },
      "source": [
        "<a href=\"https://colab.research.google.com/github/charliedirs/BTE320/blob/main/Assignment_I.ipynb\" target=\"_parent\"><img src=\"https://colab.research.google.com/assets/colab-badge.svg\" alt=\"Open In Colab\"/></a>"
      ]
    },
    {
      "cell_type": "markdown",
      "source": [
        "# Clyinder Area Calculator"
      ],
      "metadata": {
        "id": "eOf3ks3gYMYr"
      }
    },
    {
      "cell_type": "code",
      "source": [
        "pi = 3.14\n",
        "radius = float(input('Please provide radius: '))\n",
        "height = float(input('Please provide height: '))\n",
        "\n",
        "area = (2 * pi * radius * height) + (2 * pi * (radius ** 2))\n",
        "print(f'Area of cylinder = {area} sq. ft')"
      ],
      "metadata": {
        "colab": {
          "base_uri": "https://localhost:8080/"
        },
        "id": "qC-FTI91llaQ",
        "outputId": "3b2ec51f-216e-4ff8-fb99-2d124e17a7c4"
      },
      "execution_count": null,
      "outputs": [
        {
          "output_type": "stream",
          "name": "stdout",
          "text": [
            "Please provide radius: 5\n",
            "Please provide height: 10\n",
            "Area of cylinder = 471.0 sq. ft\n"
          ]
        }
      ]
    },
    {
      "cell_type": "markdown",
      "source": [
        "# Numerical Calculator"
      ],
      "metadata": {
        "id": "VFMGln2QYRoj"
      }
    },
    {
      "cell_type": "code",
      "source": [
        "n1 = float(input('Please provide first number: '))\n",
        "n2 = float(input('Please provide second number: '))\n",
        "s = input('Please provide operator (+, -, /, //, *, **, %): ')\n",
        "\n",
        "if s == '+':\n",
        "  print(f'{n1} + {n2} = {n1 + n2}')\n",
        "elif s == '-':\n",
        "  print(f'{n1} - {n2} = {n1 - n2}')\n",
        "elif s == '/':\n",
        "  print(f'{n1} / {n2} = {n1 / n2}')\n",
        "elif s == '//':\n",
        "  print(f'{n1} // {n2} = {n1 // n2}')\n",
        "elif s == '*':\n",
        "  print(f'{n1} * {n2} = {n1 * n2}')\n",
        "elif s == '**':\n",
        "  print(f'{n1} ** {n2} = {n1 ** n2}')\n",
        "elif s == '%':\n",
        "  print(f'{n1} % {n2} = {n1 % n2}')\n",
        "else:\n",
        "  print('Invalid operator')"
      ],
      "metadata": {
        "colab": {
          "base_uri": "https://localhost:8080/"
        },
        "id": "SEvTbxzllnIB",
        "outputId": "21a15afe-adc7-482d-eeec-ff4d8489e99a"
      },
      "execution_count": null,
      "outputs": [
        {
          "output_type": "stream",
          "name": "stdout",
          "text": [
            "Please provide first number: 3\n",
            "Please provide second number: 4\n",
            "Please provide operator (+, -, /, //, *, **, %): **\n",
            "3.0 ** 4.0 = 81.0\n"
          ]
        }
      ]
    },
    {
      "cell_type": "markdown",
      "source": [
        "# Parking Garage"
      ],
      "metadata": {
        "id": "-mkmnuQpYakj"
      }
    },
    {
      "cell_type": "code",
      "source": [
        "flatRate = 5.0\n",
        "hourlyRate = 2.5\n",
        "\n",
        "for h in range(1, 9):\n",
        "  charge = flatRate + hourlyRate * h\n",
        "  if charge < 10:\n",
        "    charge = 10\n",
        "  elif charge > 20:\n",
        "    charge = 20\n",
        "  print(h, charge)"
      ],
      "metadata": {
        "id": "Ec4VAi98lntz",
        "colab": {
          "base_uri": "https://localhost:8080/"
        },
        "outputId": "127ecf1e-afbf-40ea-dca8-cb17a72b6d21"
      },
      "execution_count": null,
      "outputs": [
        {
          "output_type": "stream",
          "name": "stdout",
          "text": [
            "1 10\n",
            "2 10.0\n",
            "3 12.5\n",
            "4 15.0\n",
            "5 17.5\n",
            "6 20.0\n",
            "7 20\n",
            "8 20\n"
          ]
        }
      ]
    },
    {
      "cell_type": "markdown",
      "source": [
        "# Movie Theater"
      ],
      "metadata": {
        "id": "HvqVL0f_YgR1"
      }
    },
    {
      "cell_type": "code",
      "source": [
        "print(f'Ad $Profit')\n",
        "\n",
        "init_attendees = 20\n",
        "fixed_cost = 200\n",
        "\n",
        "for advertising in range(0, 201, 25):\n",
        "  ad = float(advertising)\n",
        "  attendees = float(2*round(advertising**0.5) + init_attendees)\n",
        "  profit = float((attendees * 10) - advertising - fixed_cost)\n",
        "  print(f'{ad} ${profit}')\n"
      ],
      "metadata": {
        "id": "tYcOKsEvljxw",
        "colab": {
          "base_uri": "https://localhost:8080/"
        },
        "outputId": "78bde6e7-493e-42b2-c4fb-e21721c16d98"
      },
      "execution_count": null,
      "outputs": [
        {
          "output_type": "stream",
          "name": "stdout",
          "text": [
            "Ad $Profit\n",
            "0.0 $0.0\n",
            "25.0 $75.0\n",
            "50.0 $90.0\n",
            "75.0 $105.0\n",
            "100.0 $100.0\n",
            "125.0 $95.0\n",
            "150.0 $90.0\n",
            "175.0 $85.0\n",
            "200.0 $80.0\n"
          ]
        }
      ]
    },
    {
      "cell_type": "markdown",
      "source": [
        "# Rock Paper Scissors"
      ],
      "metadata": {
        "id": "sgb6Hp2cYkaO"
      }
    },
    {
      "cell_type": "code",
      "source": [
        "import random\n",
        "\n",
        "userinput = input(\"Would you like to play? (y/n) \")\n",
        "while userinput == \"y\":\n",
        "  user_choice = input('Choose rock, paper, or scissors: ')\n",
        "  pc_choice = random.choice(['rock', 'paper', 'scissors'])\n",
        "\n",
        "  if pc_choice == user_choice:\n",
        "    print(f'The computer chose {pc_choice}. It\\'s a tie!')\n",
        "  elif (pc_choice == 'rock' and user_choice == 'paper') or (pc_choice == 'paper' and user_choice == 'scissors') or (pc_choice == 'scissors' and user_choice == 'rock'):\n",
        "    print(f'The computer chose {pc_choice}! Congrats, you win!')\n",
        "  else:\n",
        "    print(f'The computer chose {pc_choice}. You lose. Maybe next time :(')\n",
        "  userinput = input(\"Would you like to play again? (y/n) \")\n",
        "\n",
        "print (f'It was fun playing! Bye!')\n"
      ],
      "metadata": {
        "id": "Kt7VjyeyloO2",
        "colab": {
          "base_uri": "https://localhost:8080/"
        },
        "outputId": "43ca448d-cc8b-40e0-faf1-44f260dc7a3f"
      },
      "execution_count": null,
      "outputs": [
        {
          "output_type": "stream",
          "name": "stdout",
          "text": [
            "Would you like to play? (y/n) y\n",
            "Choose rock, paper, or scissors: paper\n",
            "The computer chose rock! Congrats, you win!\n",
            "Would you like to play again? (y/n) y\n",
            "Choose rock, paper, or scissors: paper\n",
            "The computer chose scissors. You lose. Maybe next time :(\n",
            "Would you like to play again? (y/n) n\n",
            "It was fun playing! Bye!\n"
          ]
        }
      ]
    },
    {
      "cell_type": "markdown",
      "source": [
        "# Append items to list iteratively"
      ],
      "metadata": {
        "id": "oTjE0d-AYoEV"
      }
    },
    {
      "cell_type": "code",
      "source": [
        "lst = []\n",
        "\n",
        "while True:\n",
        "  num = float(input('Give a number:'))\n",
        "  if num == 0:\n",
        "    break\n",
        "  lst.append(num)\n",
        "lst.sort(reverse=True)\n",
        "lst\n"
      ],
      "metadata": {
        "id": "b5wKyOGwlo2_",
        "colab": {
          "base_uri": "https://localhost:8080/"
        },
        "outputId": "66708655-f8db-4b20-abea-bcfc6f8f041f"
      },
      "execution_count": null,
      "outputs": [
        {
          "name": "stdout",
          "output_type": "stream",
          "text": [
            "Give a number:4\n",
            "Give a number:7\n",
            "Give a number:0\n"
          ]
        },
        {
          "output_type": "execute_result",
          "data": {
            "text/plain": [
              "[7.0, 4.0]"
            ]
          },
          "metadata": {},
          "execution_count": 11
        }
      ]
    },
    {
      "cell_type": "markdown",
      "source": [
        "# Dynamic dictionary of number:month pairs"
      ],
      "metadata": {
        "id": "0F4XWXI-YseX"
      }
    },
    {
      "cell_type": "code",
      "source": [
        "months = {}\n",
        "\n",
        "numbers = [1,2,3,4,5,6,7,8,9,10,11,12]\n",
        "names = ['January', 'February', 'March', 'April', 'May', 'June', 'July', 'August', 'September', 'October', 'November', 'December']\n",
        "\n",
        "for i in range(len(numbers)):\n",
        "  months[numbers[i]] = names[i]\n",
        "\n",
        "print(months)"
      ],
      "metadata": {
        "id": "b-3q1vNklpXV",
        "colab": {
          "base_uri": "https://localhost:8080/"
        },
        "outputId": "cc538529-577d-4f8e-929d-21a16248824c"
      },
      "execution_count": null,
      "outputs": [
        {
          "output_type": "stream",
          "name": "stdout",
          "text": [
            "{1: 'January', 2: 'February', 3: 'March', 4: 'April', 5: 'May', 6: 'June', 7: 'July', 8: 'August', 9: 'September', 10: 'October', 11: 'November', 12: 'December'}\n"
          ]
        }
      ]
    },
    {
      "cell_type": "markdown",
      "source": [
        "# Dynamic dictionary; 5 distinct key:value pairs"
      ],
      "metadata": {
        "id": "KLmMC0cSYwD4"
      }
    },
    {
      "cell_type": "code",
      "source": [
        "counts = {}\n",
        "\n",
        "while len(counts) < 5:\n",
        "  key = input(\"Give a string:\")\n",
        "\n",
        "  if key not in counts:\n",
        "    counts[key] = 1\n",
        "  else:\n",
        "    counts[key] += 1\n",
        "\n",
        "counts"
      ],
      "metadata": {
        "id": "US_yDE5ylqH4",
        "colab": {
          "base_uri": "https://localhost:8080/"
        },
        "outputId": "a1c0052a-f461-431f-bf34-441703385785"
      },
      "execution_count": null,
      "outputs": [
        {
          "name": "stdout",
          "output_type": "stream",
          "text": [
            "Give a string:Apple\n",
            "Give a string:Apple\n",
            "Give a string:Orange\n",
            "Give a string:Orange\n",
            "Give a string:Orange\n",
            "Give a string:Apple\n",
            "Give a string:Banana\n",
            "Give a string:Lime\n",
            "Give a string:Lemon\n"
          ]
        },
        {
          "output_type": "execute_result",
          "data": {
            "text/plain": [
              "{'Apple': 3, 'Orange': 3, 'Banana': 1, 'Lime': 1, 'Lemon': 1}"
            ]
          },
          "metadata": {},
          "execution_count": 17
        }
      ]
    },
    {
      "cell_type": "markdown",
      "source": [
        "# Parking garage: calcFee function"
      ],
      "metadata": {
        "id": "ne0O7EbJlYyC"
      }
    },
    {
      "cell_type": "code",
      "source": [
        "def calcFee(hours):\n",
        "  fee = 5 + 2.5 * hours\n",
        "  if fee < 10:\n",
        "    fee =10.0\n",
        "  elif fee > 20:\n",
        "    fee = 20.0\n",
        "  print(f'Fee: {fee}$')\n",
        "\n",
        "def main():\n",
        "  numHours = int(input('Enter number of hours: '))\n",
        "  calcFee(numHours)\n",
        "\n",
        "main()"
      ],
      "metadata": {
        "colab": {
          "base_uri": "https://localhost:8080/"
        },
        "id": "47EfVUkolrEL",
        "outputId": "d584e55f-63e1-42c1-c9ac-9859bcd7425d"
      },
      "execution_count": null,
      "outputs": [
        {
          "output_type": "stream",
          "name": "stdout",
          "text": [
            "Enter number of hours: 1\n",
            "Fee: 10.0$\n"
          ]
        }
      ]
    },
    {
      "cell_type": "markdown",
      "source": [
        "#Recursive function: string reversal"
      ],
      "metadata": {
        "id": "NjHBLILpliUp"
      }
    },
    {
      "cell_type": "code",
      "source": [
        "def reverse(s):\n",
        "  if len(s) == 1:\n",
        "    return s\n",
        "  else:\n",
        "    return s[-1] + reverse(s[1:-1]) + s[0]\n",
        "    return reverse(s[1:]) + s[0]\n",
        "    return s[-1] + reverse(s[:-1])\n",
        "\n",
        "reverse('Hello')"
      ],
      "metadata": {
        "id": "vvMm5IK5lrnj",
        "colab": {
          "base_uri": "https://localhost:8080/",
          "height": 35
        },
        "outputId": "164bed84-30f5-439a-a2d2-ff064fc6422c"
      },
      "execution_count": null,
      "outputs": [
        {
          "output_type": "execute_result",
          "data": {
            "text/plain": [
              "'olleH'"
            ],
            "application/vnd.google.colaboratory.intrinsic+json": {
              "type": "string"
            }
          },
          "metadata": {},
          "execution_count": 18
        }
      ]
    },
    {
      "cell_type": "markdown",
      "source": [
        "# Parking garage/1st question of Assignment II using exception handling"
      ],
      "metadata": {
        "id": "i0m3NkSnt13k"
      }
    },
    {
      "cell_type": "code",
      "source": [
        "def calcFee(hours):\n",
        "  assert hours >= 0, \"Hours must be non-negative\"\n",
        "  fee = 5 + 2.5 * hours\n",
        "  if fee < 10:\n",
        "    fee =10.0\n",
        "  elif fee > 20:\n",
        "    fee = 20.0\n",
        "  print(f'Fee: {fee}$')\n",
        "\n",
        "def main():\n",
        "  try:\n",
        "    numHours = int(input('Enter number of hours: '))\n",
        "    calcFee(numHours)\n",
        "  except ValueError:\n",
        "    print('Cannor cast to int().')\n",
        "\n",
        "if __name__ == '__main__':\n",
        "  main()"
      ],
      "metadata": {
        "id": "sSD6kImOtiaJ",
        "colab": {
          "base_uri": "https://localhost:8080/"
        },
        "outputId": "32b187b1-72bb-466f-e238-3d77888d7d68"
      },
      "execution_count": 20,
      "outputs": [
        {
          "output_type": "stream",
          "name": "stdout",
          "text": [
            "Enter number of hours: 4\n",
            "Fee: 15.0$\n"
          ]
        }
      ]
    },
    {
      "cell_type": "markdown",
      "source": [
        "# Greeting class"
      ],
      "metadata": {
        "id": "NRMsM7YUtkOU"
      }
    },
    {
      "cell_type": "code",
      "source": [
        "class Greeting:\n",
        "    def __init__(self, first, last):\n",
        "        self.first = first\n",
        "        self.last = last\n",
        "    def display(self, formal=False):\n",
        "        if formal:\n",
        "            print(f'Hi {self.first} {self.last}')\n",
        "        else:\n",
        "            print(f'Hi {self.first}')\n",
        "    def __str__(self):\n",
        "        return \"{}, {}\".format(self.first, self.last)\n",
        "        return f'{self.first}, {self.last}'\n",
        "        return str(self.first) + \", \" + str(self.last)\n",
        "\n",
        "greeting = Greeting('Donald', 'Becker')\n",
        "greeting2 = Greeting('Bob', 'Dylan')\n",
        "greeting.display(formal=True)\n",
        "print(greeting)\n",
        "print(greeting2)"
      ],
      "metadata": {
        "colab": {
          "base_uri": "https://localhost:8080/"
        },
        "id": "FIgq_Pnztk7Z",
        "outputId": "c70c0b4f-ba52-4279-c728-a3e4e3618aec"
      },
      "execution_count": null,
      "outputs": [
        {
          "output_type": "stream",
          "name": "stdout",
          "text": [
            "Hi Donald Becker\n",
            "Donald, Becker\n",
            "Bob, Dylan\n"
          ]
        }
      ]
    },
    {
      "cell_type": "markdown",
      "source": [
        "# Student class"
      ],
      "metadata": {
        "id": "25PKHDadtlZX"
      }
    },
    {
      "cell_type": "code",
      "source": [
        "class Student:\n",
        "    def __init__(self, name, number):\n",
        "        self.__name = name\n",
        "        self.number = number\n",
        "        self.__courses = []\n",
        "\n",
        "    def enroll(self, newCourse):\n",
        "        if newCourse not in self.__courses:\n",
        "            self.__courses.append(newCourse)\n",
        "        else:\n",
        "            print(f'You have already enrolled in {newCourse}')\n",
        "\n",
        "    def get_courses(self):\n",
        "        return self.__courses"
      ],
      "metadata": {
        "id": "i_YBw-Uvtlvp"
      },
      "execution_count": 3,
      "outputs": []
    },
    {
      "cell_type": "markdown",
      "source": [
        "# Classes Point and Rectangle"
      ],
      "metadata": {
        "id": "HCXZEcoMQKqt"
      }
    },
    {
      "cell_type": "code",
      "source": [
        "class Point:\n",
        "  def __init__(self, x, y):\n",
        "    self.x = x\n",
        "    self.y = y\n",
        "\n",
        "  def distance(self, other):\n",
        "    return ((self.x - other.x) ** 2 + (self.y - other.y) ** 2) ** 0.5"
      ],
      "metadata": {
        "id": "w6CQ9Vq-WNoD"
      },
      "execution_count": 18,
      "outputs": []
    },
    {
      "cell_type": "code",
      "source": [
        "class Rectangle:\n",
        "  def __init__(self):\n",
        "    self.c1 = Point(0, 0)\n",
        "    self.c2 = Point(0, 2)\n",
        "    self.c3 = Point(2, 0)\n",
        "    self.c4 = Point(2, 2)\n",
        "    self.width = self.calculate_width()\n",
        "    self.height = self.calculate_height()\n",
        "\n",
        "  def calculate_width(self):\n",
        "    return self.c1.distance(self.c2)\n",
        "\n",
        "  def calculate_height(self):\n",
        "    return self.c3.distance(self.c4)\n",
        "\n",
        "  def area(self):\n",
        "    return self.width * self.height\n",
        "\n",
        "square = Rectangle()\n",
        "square.area()"
      ],
      "metadata": {
        "colab": {
          "base_uri": "https://localhost:8080/"
        },
        "id": "y8D5s4_EQWVF",
        "outputId": "d545126d-4202-45bb-a10c-9c5bc38e9c1c"
      },
      "execution_count": 19,
      "outputs": [
        {
          "output_type": "execute_result",
          "data": {
            "text/plain": [
              "4.0"
            ]
          },
          "metadata": {},
          "execution_count": 19
        }
      ]
    }
  ]
}